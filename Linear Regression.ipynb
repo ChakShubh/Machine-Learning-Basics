{
 "cells": [
  {
   "cell_type": "code",
   "execution_count": 4,
   "metadata": {},
   "outputs": [],
   "source": [
    "#importing libraries\n",
    "import matplotlib.pyplot as plt\n",
    "import numpy as np\n",
    "import pandas as pd\n",
    "import matplotlib.pyplot as plt\n",
    "%matplotlib inline"
   ]
  },
  {
   "cell_type": "code",
   "execution_count": 2,
   "metadata": {},
   "outputs": [],
   "source": [
    "#importing datasets\n",
    "df = pd.read_csv('C:\\\\Users\\\\Subhendu Chakrabarti\\\\Desktop\\\\ML_Practice\\\\My_Data Set\\\\Fish Market\\\\Fish.csv')"
   ]
  },
  {
   "cell_type": "code",
   "execution_count": 3,
   "metadata": {},
   "outputs": [
    {
     "data": {
      "text/html": [
       "<div>\n",
       "<style scoped>\n",
       "    .dataframe tbody tr th:only-of-type {\n",
       "        vertical-align: middle;\n",
       "    }\n",
       "\n",
       "    .dataframe tbody tr th {\n",
       "        vertical-align: top;\n",
       "    }\n",
       "\n",
       "    .dataframe thead th {\n",
       "        text-align: right;\n",
       "    }\n",
       "</style>\n",
       "<table border=\"1\" class=\"dataframe\">\n",
       "  <thead>\n",
       "    <tr style=\"text-align: right;\">\n",
       "      <th></th>\n",
       "      <th>Species</th>\n",
       "      <th>Weight</th>\n",
       "      <th>Length1</th>\n",
       "      <th>Length2</th>\n",
       "      <th>Length3</th>\n",
       "      <th>Height</th>\n",
       "      <th>Width</th>\n",
       "    </tr>\n",
       "  </thead>\n",
       "  <tbody>\n",
       "    <tr>\n",
       "      <th>0</th>\n",
       "      <td>Bream</td>\n",
       "      <td>242.0</td>\n",
       "      <td>23.2</td>\n",
       "      <td>25.4</td>\n",
       "      <td>30.0</td>\n",
       "      <td>11.5200</td>\n",
       "      <td>4.0200</td>\n",
       "    </tr>\n",
       "    <tr>\n",
       "      <th>1</th>\n",
       "      <td>Bream</td>\n",
       "      <td>290.0</td>\n",
       "      <td>24.0</td>\n",
       "      <td>26.3</td>\n",
       "      <td>31.2</td>\n",
       "      <td>12.4800</td>\n",
       "      <td>4.3056</td>\n",
       "    </tr>\n",
       "    <tr>\n",
       "      <th>2</th>\n",
       "      <td>Bream</td>\n",
       "      <td>340.0</td>\n",
       "      <td>23.9</td>\n",
       "      <td>26.5</td>\n",
       "      <td>31.1</td>\n",
       "      <td>12.3778</td>\n",
       "      <td>4.6961</td>\n",
       "    </tr>\n",
       "    <tr>\n",
       "      <th>3</th>\n",
       "      <td>Bream</td>\n",
       "      <td>363.0</td>\n",
       "      <td>26.3</td>\n",
       "      <td>29.0</td>\n",
       "      <td>33.5</td>\n",
       "      <td>12.7300</td>\n",
       "      <td>4.4555</td>\n",
       "    </tr>\n",
       "    <tr>\n",
       "      <th>4</th>\n",
       "      <td>Bream</td>\n",
       "      <td>430.0</td>\n",
       "      <td>26.5</td>\n",
       "      <td>29.0</td>\n",
       "      <td>34.0</td>\n",
       "      <td>12.4440</td>\n",
       "      <td>5.1340</td>\n",
       "    </tr>\n",
       "    <tr>\n",
       "      <th>...</th>\n",
       "      <td>...</td>\n",
       "      <td>...</td>\n",
       "      <td>...</td>\n",
       "      <td>...</td>\n",
       "      <td>...</td>\n",
       "      <td>...</td>\n",
       "      <td>...</td>\n",
       "    </tr>\n",
       "    <tr>\n",
       "      <th>154</th>\n",
       "      <td>Smelt</td>\n",
       "      <td>12.2</td>\n",
       "      <td>11.5</td>\n",
       "      <td>12.2</td>\n",
       "      <td>13.4</td>\n",
       "      <td>2.0904</td>\n",
       "      <td>1.3936</td>\n",
       "    </tr>\n",
       "    <tr>\n",
       "      <th>155</th>\n",
       "      <td>Smelt</td>\n",
       "      <td>13.4</td>\n",
       "      <td>11.7</td>\n",
       "      <td>12.4</td>\n",
       "      <td>13.5</td>\n",
       "      <td>2.4300</td>\n",
       "      <td>1.2690</td>\n",
       "    </tr>\n",
       "    <tr>\n",
       "      <th>156</th>\n",
       "      <td>Smelt</td>\n",
       "      <td>12.2</td>\n",
       "      <td>12.1</td>\n",
       "      <td>13.0</td>\n",
       "      <td>13.8</td>\n",
       "      <td>2.2770</td>\n",
       "      <td>1.2558</td>\n",
       "    </tr>\n",
       "    <tr>\n",
       "      <th>157</th>\n",
       "      <td>Smelt</td>\n",
       "      <td>19.7</td>\n",
       "      <td>13.2</td>\n",
       "      <td>14.3</td>\n",
       "      <td>15.2</td>\n",
       "      <td>2.8728</td>\n",
       "      <td>2.0672</td>\n",
       "    </tr>\n",
       "    <tr>\n",
       "      <th>158</th>\n",
       "      <td>Smelt</td>\n",
       "      <td>19.9</td>\n",
       "      <td>13.8</td>\n",
       "      <td>15.0</td>\n",
       "      <td>16.2</td>\n",
       "      <td>2.9322</td>\n",
       "      <td>1.8792</td>\n",
       "    </tr>\n",
       "  </tbody>\n",
       "</table>\n",
       "<p>159 rows × 7 columns</p>\n",
       "</div>"
      ],
      "text/plain": [
       "    Species  Weight  Length1  Length2  Length3   Height   Width\n",
       "0     Bream   242.0     23.2     25.4     30.0  11.5200  4.0200\n",
       "1     Bream   290.0     24.0     26.3     31.2  12.4800  4.3056\n",
       "2     Bream   340.0     23.9     26.5     31.1  12.3778  4.6961\n",
       "3     Bream   363.0     26.3     29.0     33.5  12.7300  4.4555\n",
       "4     Bream   430.0     26.5     29.0     34.0  12.4440  5.1340\n",
       "..      ...     ...      ...      ...      ...      ...     ...\n",
       "154   Smelt    12.2     11.5     12.2     13.4   2.0904  1.3936\n",
       "155   Smelt    13.4     11.7     12.4     13.5   2.4300  1.2690\n",
       "156   Smelt    12.2     12.1     13.0     13.8   2.2770  1.2558\n",
       "157   Smelt    19.7     13.2     14.3     15.2   2.8728  2.0672\n",
       "158   Smelt    19.9     13.8     15.0     16.2   2.9322  1.8792\n",
       "\n",
       "[159 rows x 7 columns]"
      ]
     },
     "execution_count": 3,
     "metadata": {},
     "output_type": "execute_result"
    }
   ],
   "source": [
    "df"
   ]
  },
  {
   "cell_type": "code",
   "execution_count": 4,
   "metadata": {},
   "outputs": [
    {
     "name": "stdout",
     "output_type": "stream",
     "text": [
      "<class 'pandas.core.frame.DataFrame'>\n",
      "RangeIndex: 159 entries, 0 to 158\n",
      "Data columns (total 7 columns):\n",
      " #   Column   Non-Null Count  Dtype  \n",
      "---  ------   --------------  -----  \n",
      " 0   Species  159 non-null    object \n",
      " 1   Weight   159 non-null    float64\n",
      " 2   Length1  159 non-null    float64\n",
      " 3   Length2  159 non-null    float64\n",
      " 4   Length3  159 non-null    float64\n",
      " 5   Height   159 non-null    float64\n",
      " 6   Width    159 non-null    float64\n",
      "dtypes: float64(6), object(1)\n",
      "memory usage: 8.1+ KB\n",
      "Information about the dataset: None\n"
     ]
    }
   ],
   "source": [
    "print(\"Information about the dataset:\",df.info())"
   ]
  },
  {
   "cell_type": "code",
   "execution_count": 5,
   "metadata": {},
   "outputs": [
    {
     "name": "stdout",
     "output_type": "stream",
     "text": [
      "            Weight     Length1     Length2     Length3      Height       Width\n",
      "count   159.000000  159.000000  159.000000  159.000000  159.000000  159.000000\n",
      "mean    398.326415   26.247170   28.415723   31.227044    8.970994    4.417486\n",
      "std     357.978317    9.996441   10.716328   11.610246    4.286208    1.685804\n",
      "min       0.000000    7.500000    8.400000    8.800000    1.728400    1.047600\n",
      "25%     120.000000   19.050000   21.000000   23.150000    5.944800    3.385650\n",
      "50%     273.000000   25.200000   27.300000   29.400000    7.786000    4.248500\n",
      "75%     650.000000   32.700000   35.500000   39.650000   12.365900    5.584500\n",
      "max    1650.000000   59.000000   63.400000   68.000000   18.957000    8.142000\n"
     ]
    }
   ],
   "source": [
    "print(df.describe())"
   ]
  },
  {
   "cell_type": "code",
   "execution_count": 6,
   "metadata": {},
   "outputs": [],
   "source": [
    "import seaborn as sb"
   ]
  },
  {
   "cell_type": "code",
   "execution_count": 7,
   "metadata": {},
   "outputs": [
    {
     "data": {
      "text/plain": [
       "<matplotlib.axes._subplots.AxesSubplot at 0x8496e68>"
      ]
     },
     "execution_count": 7,
     "metadata": {},
     "output_type": "execute_result"
    },
    {
     "data": {
      "image/png": "[encoded data removed]",
      "text/plain": [
       "<Figure size 432x288 with 2 Axes>"
      ]
     },
     "metadata": {
      "needs_background": "light"
     },
     "output_type": "display_data"
    }
   ],
   "source": [
    "data_corr = df.corr()\n",
    "sb.heatmap(data_corr,annot=True)"
   ]
  },
  {
   "cell_type": "code",
   "execution_count": 8,
   "metadata": {},
   "outputs": [
    {
     "name": "stderr",
     "output_type": "stream",
     "text": [
      "No handles with labels found to put in legend.\n"
     ]
    },
    {
     "data": {
      "image/png": "[encoded data removed]",
      "text/plain": [
       "<Figure size 432x288 with 1 Axes>"
      ]
     },
     "metadata": {
      "needs_background": "light"
     },
     "output_type": "display_data"
    }
   ],
   "source": [
    "plt.scatter(df['Length1'],df['Weight'])\n",
    "plt.title(\"Fish Length to Weight\")\n",
    "plt.xlim(7,60)\n",
    "plt.ylim(0,1700)\n",
    "plt.legend()\n",
    "plt.xlabel(\"Length1\")\n",
    "plt.ylabel(\"Weight\")\n",
    "plt.show()"
   ]
  },
  {
   "cell_type": "code",
   "execution_count": 9,
   "metadata": {},
   "outputs": [
    {
     "name": "stdout",
     "output_type": "stream",
     "text": [
      "Intercept is:  [-462.37507916]\n",
      "Coefficients is:  [[32.7921639]]\n"
     ]
    }
   ],
   "source": [
    "#Modeling\n",
    "from sklearn import linear_model\n",
    "regress = linear_model.LinearRegression()\n",
    "train_x = np.asanyarray(df[['Length1']])\n",
    "train_y = np.asanyarray(df[['Weight']])\n",
    "#print(train_x)\n",
    "#print(train_y)\n",
    "regress.fit (train_x,train_y)\n",
    "print ('Intercept is: ',regress.intercept_)\n",
    "print ('Coefficients is: ', regress.coef_)"
   ]
  },
  {
   "cell_type": "code",
   "execution_count": 10,
   "metadata": {},
   "outputs": [
    {
     "data": {
      "image/png": "[encoded data removed]",
      "text/plain": [
       "<Figure size 432x288 with 1 Axes>"
      ]
     },
     "metadata": {
      "needs_background": "light"
     },
     "output_type": "display_data"
    }
   ],
   "source": [
    "plt.scatter(df.Length1, df.Weight, color='blue', label=\"Actual\")\n",
    "plt.plot(train_x, regress.coef_[0][0]*train_x + regress.intercept_[0], '-y', label=\"Predicted\")\n",
    "plt.title(\"Fish Weight Prediction\")\n",
    "plt.xlim(7,60)\n",
    "plt.ylim(0,1700)\n",
    "plt.legend()\n",
    "plt.xlabel(\"Length1\")\n",
    "plt.ylabel(\"Weight\")\n",
    "plt.show()"
   ]
  },
  {
   "cell_type": "code",
   "execution_count": 11,
   "metadata": {},
   "outputs": [
    {
     "name": "stdout",
     "output_type": "stream",
     "text": [
      "[242.] [298.40312322]\n",
      "[290.] [324.63685434]\n",
      "[340.] [321.35763795]\n",
      "[363.] [400.0588313]\n",
      "[430.] [406.61726408]\n",
      "[450.] [416.45491325]\n",
      "[500.] [416.45491325]\n",
      "[390.] [442.68864436]\n",
      "[450.] [442.68864436]\n",
      "[500.] [472.20159187]\n",
      "[475.] [468.92237548]\n",
      "[500.] [478.76002465]\n",
      "[500.] [491.87689021]\n",
      "[340.] [504.99375577]\n",
      "[600.] [501.71453938]\n",
      "[600.] [501.71453938]\n",
      "[700.] [534.50670327]\n",
      "[700.] [534.50670327]\n",
      "[610.] [550.90278522]\n",
      "[650.] [554.18200161]\n",
      "[575.] [564.01965078]\n",
      "[685.] [567.29886717]\n",
      "[620.] [570.57808356]\n",
      "[680.] [580.41573273]\n",
      "[700.] [583.69494912]\n",
      "[725.] [580.41573273]\n",
      "[720.] [586.97416551]\n",
      "[714.] [609.92868023]\n",
      "[850.] [613.20789662]\n",
      "[1000.] [636.16241135]\n",
      "[920.] [685.35065719]\n",
      "[955.] [685.35065719]\n",
      "[925.] [724.70125387]\n",
      "[975.] [764.05185054]\n",
      "[950.] [783.72714888]\n",
      "[40.] [-39.3561649]\n",
      "[69.] [78.69562512]\n",
      "[78.] [111.48778902]\n",
      "[87.] [134.44230374]\n",
      "[120.] [147.5591693]\n",
      "[0.] [160.67603486]\n",
      "[110.] [163.95525125]\n",
      "[120.] [173.79290042]\n",
      "[150.] [206.58506432]\n",
      "[145.] [209.8642807]\n",
      "[160.] [209.8642807]\n",
      "[140.] [226.26036265]\n",
      "[160.] [229.53957904]\n",
      "[169.] [259.05252655]\n",
      "[161.] [259.05252655]\n",
      "[200.] [262.33174294]\n",
      "[180.] [311.51998878]\n",
      "[290.] [324.63685434]\n",
      "[272.] [357.42901824]\n",
      "[390.] [504.99375577]\n",
      "[270.] [311.51998878]\n",
      "[270.] [327.91607073]\n",
      "[306.] [377.10431657]\n",
      "[540.] [472.20159187]\n",
      "[800.] [642.72084413]\n",
      "[1000.] [760.77263415]\n",
      "[55.] [-19.68086657]\n",
      "[60.] [6.55286455]\n",
      "[90.] [72.13719234]\n",
      "[120.] [111.48778902]\n",
      "[150.] [141.00073652]\n",
      "[140.] [160.67603486]\n",
      "[170.] [160.67603486]\n",
      "[145.] [186.90976598]\n",
      "[200.] [232.81879543]\n",
      "[273.] [291.84469044]\n",
      "[300.] [324.63685434]\n",
      "[5.9] [-216.43384994]\n",
      "[32.] [-52.47303046]\n",
      "[40.] [-9.8432174]\n",
      "[51.5] [29.50737928]\n",
      "[70.] [52.46189401]\n",
      "[100.] [68.85797595]\n",
      "[78.] [88.53327429]\n",
      "[80.] [101.65013985]\n",
      "[85.] [121.32543819]\n",
      "[85.] [134.44230374]\n",
      "[110.] [160.67603486]\n",
      "[115.] [160.67603486]\n",
      "[125.] [160.67603486]\n",
      "[130.] [170.51368403]\n",
      "[120.] [193.46819876]\n",
      "[120.] [193.46819876]\n",
      "[130.] [193.46819876]\n",
      "[135.] [193.46819876]\n",
      "[110.] [193.46819876]\n",
      "[130.] [209.8642807]\n",
      "[150.] [209.8642807]\n",
      "[145.] [216.42271348]\n",
      "[150.] [226.26036265]\n",
      "[170.] [242.6564446]\n",
      "[225.] [259.05252655]\n",
      "[145.] [259.05252655]\n",
      "[188.] [278.72782489]\n",
      "[180.] [291.84469044]\n",
      "[197.] [308.24077239]\n",
      "[218.] [357.42901824]\n",
      "[300.] [363.98745101]\n",
      "[260.] [370.54588379]\n",
      "[265.] [370.54588379]\n",
      "[250.] [370.54588379]\n",
      "[250.] [386.94196574]\n",
      "[300.] [419.73412964]\n",
      "[320.] [449.24707714]\n",
      "[514.] [537.78591966]\n",
      "[556.] [586.97416551]\n",
      "[840.] [603.37024745]\n",
      "[685.] [652.5584933]\n",
      "[700.] [652.5584933]\n",
      "[700.] [668.95457525]\n",
      "[690.] [672.23379163]\n",
      "[900.] [734.53890304]\n",
      "[650.] [734.53890304]\n",
      "[820.] [737.81811943]\n",
      "[850.] [747.6557686]\n",
      "[900.] [750.93498498]\n",
      "[1015.] [750.93498498]\n",
      "[820.] [754.21420137]\n",
      "[1100.] [816.51931278]\n",
      "[1000.] [842.75304389]\n",
      "[1100.] [852.59069306]\n",
      "[1000.] [855.86990945]\n",
      "[1000.] [885.38285696]\n",
      "[200.] [521.38983771]\n",
      "[300.] [577.13651634]\n",
      "[300.] [609.92868023]\n",
      "[300.] [678.79222441]\n",
      "[430.] [701.74673914]\n",
      "[345.] [718.14282109]\n",
      "[456.] [849.31147667]\n",
      "[510.] [849.31147667]\n",
      "[540.] [852.59069306]\n",
      "[500.] [914.89580446]\n",
      "[567.] [954.24640114]\n",
      "[770.] [1006.71386337]\n",
      "[950.] [1121.48643701]\n",
      "[1250.] [1242.81744342]\n",
      "[1600.] [1373.986099]\n",
      "[1550.] [1373.986099]\n",
      "[1650.] [1472.36259069]\n",
      "[6.7] [-157.40795493]\n",
      "[7.5] [-134.4534402]\n",
      "[7.] [-131.17422381]\n",
      "[9.7] [-121.33657464]\n",
      "[9.8] [-111.49892547]\n",
      "[8.7] [-108.21970908]\n",
      "[10.] [-91.82362714]\n",
      "[9.9] [-91.82362714]\n",
      "[9.8] [-88.54441075]\n",
      "[12.2] [-85.26519436]\n",
      "[13.4] [-78.70676158]\n",
      "[12.2] [-65.58989602]\n",
      "[19.7] [-29.51851573]\n",
      "[19.9] [-9.8432174]\n",
      "[[ 298.40312322]\n",
      " [ 324.63685434]\n",
      " [ 321.35763795]\n",
      " [ 400.0588313 ]\n",
      " [ 406.61726408]\n",
      " [ 416.45491325]\n",
      " [ 416.45491325]\n",
      " [ 442.68864436]\n",
      " [ 442.68864436]\n",
      " [ 472.20159187]\n",
      " [ 468.92237548]\n",
      " [ 478.76002465]\n",
      " [ 491.87689021]\n",
      " [ 504.99375577]\n",
      " [ 501.71453938]\n",
      " [ 501.71453938]\n",
      " [ 534.50670327]\n",
      " [ 534.50670327]\n",
      " [ 550.90278522]\n",
      " [ 554.18200161]\n",
      " [ 564.01965078]\n",
      " [ 567.29886717]\n",
      " [ 570.57808356]\n",
      " [ 580.41573273]\n",
      " [ 583.69494912]\n",
      " [ 580.41573273]\n",
      " [ 586.97416551]\n",
      " [ 609.92868023]\n",
      " [ 613.20789662]\n",
      " [ 636.16241135]\n",
      " [ 685.35065719]\n",
      " [ 685.35065719]\n",
      " [ 724.70125387]\n",
      " [ 764.05185054]\n",
      " [ 783.72714888]\n",
      " [ -39.3561649 ]\n",
      " [  78.69562512]\n",
      " [ 111.48778902]\n",
      " [ 134.44230374]\n",
      " [ 147.5591693 ]\n",
      " [ 160.67603486]\n",
      " [ 163.95525125]\n",
      " [ 173.79290042]\n",
      " [ 206.58506432]\n",
      " [ 209.8642807 ]\n",
      " [ 209.8642807 ]\n",
      " [ 226.26036265]\n",
      " [ 229.53957904]\n",
      " [ 259.05252655]\n",
      " [ 259.05252655]\n",
      " [ 262.33174294]\n",
      " [ 311.51998878]\n",
      " [ 324.63685434]\n",
      " [ 357.42901824]\n",
      " [ 504.99375577]\n",
      " [ 311.51998878]\n",
      " [ 327.91607073]\n",
      " [ 377.10431657]\n",
      " [ 472.20159187]\n",
      " [ 642.72084413]\n",
      " [ 760.77263415]\n",
      " [ -19.68086657]\n",
      " [   6.55286455]\n",
      " [  72.13719234]\n",
      " [ 111.48778902]\n",
      " [ 141.00073652]\n",
      " [ 160.67603486]\n",
      " [ 160.67603486]\n",
      " [ 186.90976598]\n",
      " [ 232.81879543]\n",
      " [ 291.84469044]\n",
      " [ 324.63685434]\n",
      " [-216.43384994]\n",
      " [ -52.47303046]\n",
      " [  -9.8432174 ]\n",
      " [  29.50737928]\n",
      " [  52.46189401]\n",
      " [  68.85797595]\n",
      " [  88.53327429]\n",
      " [ 101.65013985]\n",
      " [ 121.32543819]\n",
      " [ 134.44230374]\n",
      " [ 160.67603486]\n",
      " [ 160.67603486]\n",
      " [ 160.67603486]\n",
      " [ 170.51368403]\n",
      " [ 193.46819876]\n",
      " [ 193.46819876]\n",
      " [ 193.46819876]\n",
      " [ 193.46819876]\n",
      " [ 193.46819876]\n",
      " [ 209.8642807 ]\n",
      " [ 209.8642807 ]\n",
      " [ 216.42271348]\n",
      " [ 226.26036265]\n",
      " [ 242.6564446 ]\n",
      " [ 259.05252655]\n",
      " [ 259.05252655]\n",
      " [ 278.72782489]\n",
      " [ 291.84469044]\n",
      " [ 308.24077239]\n",
      " [ 357.42901824]\n",
      " [ 363.98745101]\n",
      " [ 370.54588379]\n",
      " [ 370.54588379]\n",
      " [ 370.54588379]\n",
      " [ 386.94196574]\n",
      " [ 419.73412964]\n",
      " [ 449.24707714]\n",
      " [ 537.78591966]\n",
      " [ 586.97416551]\n",
      " [ 603.37024745]\n",
      " [ 652.5584933 ]\n",
      " [ 652.5584933 ]\n",
      " [ 668.95457525]\n",
      " [ 672.23379163]\n",
      " [ 734.53890304]\n",
      " [ 734.53890304]\n",
      " [ 737.81811943]\n",
      " [ 747.6557686 ]\n",
      " [ 750.93498498]\n",
      " [ 750.93498498]\n",
      " [ 754.21420137]\n",
      " [ 816.51931278]\n",
      " [ 842.75304389]\n",
      " [ 852.59069306]\n",
      " [ 855.86990945]\n",
      " [ 885.38285696]\n",
      " [ 521.38983771]\n",
      " [ 577.13651634]\n",
      " [ 609.92868023]\n",
      " [ 678.79222441]\n",
      " [ 701.74673914]\n",
      " [ 718.14282109]\n",
      " [ 849.31147667]\n",
      " [ 849.31147667]\n",
      " [ 852.59069306]\n",
      " [ 914.89580446]\n",
      " [ 954.24640114]\n",
      " [1006.71386337]\n",
      " [1121.48643701]\n",
      " [1242.81744342]\n",
      " [1373.986099  ]\n",
      " [1373.986099  ]\n",
      " [1472.36259069]\n",
      " [-157.40795493]\n",
      " [-134.4534402 ]\n",
      " [-131.17422381]\n",
      " [-121.33657464]\n",
      " [-111.49892547]\n",
      " [-108.21970908]\n",
      " [ -91.82362714]\n",
      " [ -91.82362714]\n",
      " [ -88.54441075]\n",
      " [ -85.26519436]\n",
      " [ -78.70676158]\n",
      " [ -65.58989602]\n",
      " [ -29.51851573]\n",
      " [  -9.8432174 ]]\n",
      "  Species  Weight  Length1  Length2  Length3   Height   Width   Predicted\n",
      "0   Bream   242.0     23.2     25.4     30.0  11.5200  4.0200  298.403123\n",
      "1   Bream   290.0     24.0     26.3     31.2  12.4800  4.3056  324.636854\n",
      "2   Bream   340.0     23.9     26.5     31.1  12.3778  4.6961  321.357638\n",
      "3   Bream   363.0     26.3     29.0     33.5  12.7300  4.4555  400.058831\n",
      "4   Bream   430.0     26.5     29.0     34.0  12.4440  5.1340  406.617264\n"
     ]
    }
   ],
   "source": [
    "y_predicted = regress.predict(train_x)\n",
    "for i in range(0,len(train_x)):\n",
    "    print(train_y[i],y_predicted[i])\n",
    "df['Predicted'] = y_predicted\n",
    "print(y_predicted)\n",
    "print(df.head())"
   ]
  },
  {
   "cell_type": "code",
   "execution_count": 12,
   "metadata": {},
   "outputs": [
    {
     "name": "stdout",
     "output_type": "stream",
     "text": [
      "Mean Absolute Error is: 109.48096093758657\n",
      "Mean Squared Error is: 20562.256518291095\n",
      "Root Mean Squared Error is: 143.3954550126715\n"
     ]
    }
   ],
   "source": [
    "from sklearn import metrics\n",
    "print('Mean Absolute Error is:', metrics.mean_absolute_error(train_y, y_predicted))\n",
    "print('Mean Squared Error is:', metrics.mean_squared_error(train_y, y_predicted))\n",
    "print('Root Mean Squared Error is:', np.sqrt(metrics.mean_squared_error(train_y, y_predicted)))"
   ]
  },
  {
   "cell_type": "code",
   "execution_count": 13,
   "metadata": {},
   "outputs": [
    {
     "name": "stdout",
     "output_type": "stream",
     "text": [
      "Mean absolute error (MAE) is: 109.48096093758657\n",
      "Mean square error (MSE) is:  20562.256518291095\n",
      "R2-score: %.2f (RMSE) is: 0.8385279468768119\n"
     ]
    }
   ],
   "source": [
    "from sklearn.metrics import r2_score\n",
    "test_x = np.asanyarray(df[['Length1']])\n",
    "test_y = np.asanyarray(df[['Weight']])\n",
    "test_y_predicted = regress.predict(test_x)\n",
    "print(\"Mean absolute error (MAE) is:\" , np.mean(np.absolute(test_y_predicted - test_y)))\n",
    "print(\"Mean square error (MSE) is: \" , np.mean((test_y_predicted - test_y) ** 2))\n",
    "print(\"R2-score: %.2f (RMSE) is:\" , r2_score(test_y, test_y_predicted))"
   ]
  },
  {
   "cell_type": "code",
   "execution_count": 14,
   "metadata": {},
   "outputs": [
    {
     "data": {
      "text/plain": [
       "<matplotlib.axes._subplots.AxesSubplot at 0x972e568>"
      ]
     },
     "execution_count": 14,
     "metadata": {},
     "output_type": "execute_result"
    },
    {
     "data": {
      "image/png": "[encoded data removed]",
      "text/plain": [
       "<Figure size 432x288 with 1 Axes>"
      ]
     },
     "metadata": {
      "needs_background": "light"
     },
     "output_type": "display_data"
    }
   ],
   "source": [
    "#box Plot visualization\n",
    "df.plot(x='Height',y='Weight',kind='box')"
   ]
  },
  {
   "cell_type": "code",
   "execution_count": null,
   "metadata": {},
   "outputs": [],
   "source": []
  }
 ],
 "metadata": {
  "kernelspec": {
   "display_name": "Python 3",
   "language": "python",
   "name": "python3"
  },
  "language_info": {
   "codemirror_mode": {
    "name": "ipython",
    "version": 3
   },
   "file_extension": ".py",
   "mimetype": "text/x-python",
   "name": "python",
   "nbconvert_exporter": "python",
   "pygments_lexer": "ipython3",
   "version": "3.8.8"
  }
 },
 "nbformat": 4,
 "nbformat_minor": 4
}
